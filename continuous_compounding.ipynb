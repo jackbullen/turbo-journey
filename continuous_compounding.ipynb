{
 "cells": [
  {
   "cell_type": "markdown",
   "metadata": {},
   "source": [
    "# Continuous Compounding Interest"
   ]
  },
  {
   "cell_type": "markdown",
   "metadata": {},
   "source": [
    "Borrow 100000$ at with rate 5% per year.\n",
    "\n",
    "Interest after one year is $100000 * 0.05 = 5000$\n",
    "\n",
    "Interest plus principle is $100000 * 1.05 = 100000 + (100000 * 0.05) = 105000$"
   ]
  },
  {
   "cell_type": "code",
   "execution_count": 3,
   "metadata": {},
   "outputs": [
    {
     "data": {
      "text/plain": [
       "5000.0"
      ]
     },
     "execution_count": 3,
     "metadata": {},
     "output_type": "execute_result"
    }
   ],
   "source": [
    "100_000 * 0.05"
   ]
  },
  {
   "cell_type": "markdown",
   "metadata": {},
   "source": [
    "This is with compounding occuring once, at the end of the year."
   ]
  },
  {
   "cell_type": "markdown",
   "metadata": {},
   "source": [
    "Compounding at monthly intervals splits the yearly rate across each month, and applies the split rate at each month\n",
    "\n",
    "In this case the split rate is $\\frac{0.05}{12}$"
   ]
  },
  {
   "cell_type": "code",
   "execution_count": 4,
   "metadata": {},
   "outputs": [
    {
     "data": {
      "text/plain": [
       "0.004166666666666667"
      ]
     },
     "execution_count": 4,
     "metadata": {},
     "output_type": "execute_result"
    }
   ],
   "source": [
    "0.05 / 12"
   ]
  },
  {
   "cell_type": "markdown",
   "metadata": {},
   "source": [
    "The interest after one month is $100000 * \\frac{0.05}{12} = 416.67$ and the balance is $100000 * (1 + \\frac{0.05}{12}) = 100416.67$"
   ]
  },
  {
   "cell_type": "code",
   "execution_count": 11,
   "metadata": {},
   "outputs": [
    {
     "data": {
      "text/plain": [
       "(416.6666666666667, 100416.66666666667)"
      ]
     },
     "execution_count": 11,
     "metadata": {},
     "output_type": "execute_result"
    }
   ],
   "source": [
    "100000 * 0.05 / 12,   100000 * (1 + 0.05 / 12)"
   ]
  },
  {
   "cell_type": "markdown",
   "metadata": {},
   "source": [
    "At the second month the interest is calculated with the split rate against the increased balance $100416.67 * \\frac{0.05}{12} = 418.40$ and the new balance is $100000 * (1 + \\frac{0.05}{12}) * (1 + \\frac{0.05}{12}) = 100416.67$"
   ]
  },
  {
   "cell_type": "code",
   "execution_count": 16,
   "metadata": {},
   "outputs": [
    {
     "data": {
      "text/plain": [
       "100835.06944444445"
      ]
     },
     "execution_count": 16,
     "metadata": {},
     "output_type": "execute_result"
    }
   ],
   "source": [
    "100000 * (1 + 0.05 / 12) * (1 + 0.05 / 12)"
   ]
  },
  {
   "cell_type": "code",
   "execution_count": 20,
   "metadata": {},
   "outputs": [
    {
     "data": {
      "text/plain": [
       "(418.40277777777777, 100835.06944444445)"
      ]
     },
     "execution_count": 20,
     "metadata": {},
     "output_type": "execute_result"
    }
   ],
   "source": [
    "100000 * (1 + 0.05 / 12) * (0.05 / 12),   100000 * (1 + 0.05 / 12) * (1 + 0.05 / 12)"
   ]
  },
  {
   "cell_type": "markdown",
   "metadata": {},
   "source": [
    "Repeating this $100000 * (1 + \\frac{0.05}{12}) * (1 + \\frac{0.05}{12}) ...$ twelve times gives the final balance at the end of the year.\n",
    "\n",
    "The final balance is $100000 * (1 + \\frac{0.05}{12})^{12}$"
   ]
  },
  {
   "cell_type": "code",
   "execution_count": 21,
   "metadata": {},
   "outputs": [
    {
     "data": {
      "text/plain": [
       "105116.1897881733"
      ]
     },
     "execution_count": 21,
     "metadata": {},
     "output_type": "execute_result"
    }
   ],
   "source": [
    "100000 * (1 + 0.05 / 12)**12"
   ]
  },
  {
   "cell_type": "markdown",
   "metadata": {},
   "source": [
    "Which is 116 more than without compounding."
   ]
  },
  {
   "cell_type": "code",
   "execution_count": 22,
   "metadata": {},
   "outputs": [
    {
     "data": {
      "text/plain": [
       "105116.1897881733"
      ]
     },
     "execution_count": 22,
     "metadata": {},
     "output_type": "execute_result"
    }
   ],
   "source": [
    "def compound(principle, rate, n):\n",
    "    return principle * (1 + rate / n)**n\n",
    "\n",
    "compound(100000, 0.05, 12)"
   ]
  },
  {
   "cell_type": "code",
   "execution_count": 48,
   "metadata": {},
   "outputs": [
    {
     "name": "stdout",
     "output_type": "stream",
     "text": [
      "Principle = 100000$\n",
      "Interest rate = 0.05%\n",
      "-------------------------------------------------------------------\n",
      "Compounding intervals = 1     \t | \t Final balance = 105000.00$\n",
      "Compounding intervals = 2     \t | \t Final balance = 105062.50$\n",
      "Compounding intervals = 3     \t | \t Final balance = 105083.80$\n",
      "Compounding intervals = 4     \t | \t Final balance = 105094.53$\n",
      "Compounding intervals = 5     \t | \t Final balance = 105101.01$\n",
      "Compounding intervals = 10    \t | \t Final balance = 105114.01$\n",
      "Compounding intervals = 20    \t | \t Final balance = 105120.55$\n",
      "Compounding intervals = 30    \t | \t Final balance = 105122.73$\n",
      "Compounding intervals = 40    \t | \t Final balance = 105123.83$\n",
      "Compounding intervals = 50    \t | \t Final balance = 105124.48$\n",
      "Compounding intervals = 100   \t | \t Final balance = 105125.80$\n",
      "Compounding intervals = 200   \t | \t Final balance = 105126.45$\n",
      "Compounding intervals = 300   \t | \t Final balance = 105126.67$\n",
      "Compounding intervals = 400   \t | \t Final balance = 105126.78$\n",
      "Compounding intervals = 500   \t | \t Final balance = 105126.85$\n",
      "Compounding intervals = 1000  \t | \t Final balance = 105126.98$\n"
     ]
    }
   ],
   "source": [
    "print(\"Principle = 100000$\")\n",
    "print(\"Interest rate = 0.05%\")\n",
    "print(\"-\"*67)\n",
    "for n in [1, 2, 3, 4, 5, 10, 20, 30, 40, 50, 100, 200, 300, 400, 500, 1000]:\n",
    "    print(f\"Compounding intervals = {n: <5d} \\t | \\t Final balance = {compound(100000, 0.05, n):.2f}$\")\n"
   ]
  },
  {
   "cell_type": "code",
   "execution_count": null,
   "metadata": {},
   "outputs": [],
   "source": []
  }
 ],
 "metadata": {
  "kernelspec": {
   "display_name": "Python 3",
   "language": "python",
   "name": "python3"
  },
  "language_info": {
   "codemirror_mode": {
    "name": "ipython",
    "version": 3
   },
   "file_extension": ".py",
   "mimetype": "text/x-python",
   "name": "python",
   "nbconvert_exporter": "python",
   "pygments_lexer": "ipython3",
   "version": "3.12.5"
  }
 },
 "nbformat": 4,
 "nbformat_minor": 2
}
